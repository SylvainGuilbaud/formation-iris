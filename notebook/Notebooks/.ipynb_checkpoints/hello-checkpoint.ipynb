{
 "cells": [
  {
   "cell_type": "code",
   "execution_count": null,
   "metadata": {},
   "outputs": [],
   "source": [
    "print(\"hello\")\n",
    "print(\"world\")"
   ]
  },
  {
   "cell_type": "code",
   "execution_count": null,
   "metadata": {},
   "outputs": [],
   "source": [
    "import iris\n",
    "statement = iris.sql.prepare('SELECT * FROM Demo.Person')\n",
    "rs1 = statement.execute()\n",
    "for row in rs1:\n",
    "    print(row)"
   ]
  },
  {
   "cell_type": "code",
   "execution_count": null,
   "metadata": {},
   "outputs": [],
   "source": [
    "import iris\n",
    "person = iris.cls('Demo.Person')._New()\n",
    "person.Name = 'toto'\n",
    "print(person)\n",
    "person._Save()"
   ]
  },
  {
   "cell_type": "code",
   "execution_count": null,
   "metadata": {},
   "outputs": [],
   "source": [
    "def test(toto=''):\n",
    "    print(toto)\n",
    "    return toto"
   ]
  },
  {
   "cell_type": "code",
   "execution_count": null,
   "metadata": {},
   "outputs": [],
   "source": [
    "personOpen = iris.cls('Demo.Person')._OpenId(3)\n",
    "print(personOpen.Name)"
   ]
  },
  {
   "cell_type": "code",
   "execution_count": null,
   "metadata": {},
   "outputs": [],
   "source": [
    "%test\n",
    "print('totot')"
   ]
  },
  {
   "cell_type": "code",
   "execution_count": null,
   "metadata": {},
   "outputs": [],
   "source": [
    "test('totot')\n",
    "errorfgd"
   ]
  },
  {
   "cell_type": "code",
   "execution_count": null,
   "metadata": {},
   "outputs": [],
   "source": [
    "%cos\n",
    "set test=\"titi\"\n",
    "zw test\n",
    "if test '= \"titi\" {\n",
    "    zw \"if\"\n",
    "}\n",
    "else {\n",
    "    zw \"else\"\n",
    "}"
   ]
  },
  {
   "cell_type": "code",
   "execution_count": null,
   "metadata": {},
   "outputs": [],
   "source": [
    "%sql\n",
    "SELECT * FROM \n",
    "Demo.Person"
   ]
  },
  {
   "cell_type": "code",
   "execution_count": null,
   "metadata": {},
   "outputs": [],
   "source": []
  }
 ],
 "metadata": {
  "kernelspec": {
   "display_name": "ObjectScript",
   "language": "",
   "name": "objectscriptkernel"
  },
  "language_info": {
   "file_extension": ".cls",
   "mimetype": "text/x-python",
   "name": "python"
  }
 },
 "nbformat": 4,
 "nbformat_minor": 4
}
