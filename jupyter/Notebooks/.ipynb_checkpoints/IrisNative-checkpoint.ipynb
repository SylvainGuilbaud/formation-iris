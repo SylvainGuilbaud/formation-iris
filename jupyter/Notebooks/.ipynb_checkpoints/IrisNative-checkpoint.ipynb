{
 "cells": [
  {
   "cell_type": "markdown",
   "id": "1d834ca1",
   "metadata": {},
   "source": [
    "# Import IRIS Native API\n",
    "This notebook is writen to use a vanilla Python kernel."
   ]
  },
  {
   "cell_type": "code",
   "execution_count": 53,
   "id": "cfc40280",
   "metadata": {},
   "outputs": [],
   "source": [
    "import iris\n",
    "import datetime\n",
    "import random\n",
    "import time"
   ]
  },
  {
   "cell_type": "markdown",
   "id": "81cba700",
   "metadata": {},
   "source": [
    "# Create database connection and IRIS instance"
   ]
  },
  {
   "cell_type": "code",
   "execution_count": 38,
   "id": "f88a841e",
   "metadata": {},
   "outputs": [],
   "source": [
    "connection = iris.connect(\"host.docker.internal\", 12772, \"IRISAPP\", \"_SYSTEM\", \"SYS\", sharedmemory = True)\n",
    "_iris = iris.createIRIS(connection)"
   ]
  },
  {
   "cell_type": "markdown",
   "id": "bcd4f5ef",
   "metadata": {},
   "source": [
    "# Fetch Object example"
   ]
  },
  {
   "cell_type": "code",
   "execution_count": 48,
   "id": "b3dfb021",
   "metadata": {},
   "outputs": [
    {
     "name": "stdout",
     "output_type": "stream",
     "text": [
      "id 110\n",
      "Jamaica\n"
     ]
    }
   ],
   "source": [
    "id=random.randint(0,200)\n",
    "print(\"id\",id)\n",
    "passenger = _iris.classMethodObject(\"dc.data.Country\",\"%OpenId\",id)\n",
    "print(passenger.get(\"name\"))"
   ]
  },
  {
   "cell_type": "markdown",
   "id": "cf7ad716",
   "metadata": {},
   "source": [
    "# Play with globals"
   ]
  },
  {
   "cell_type": "code",
   "execution_count": 63,
   "id": "bacefa88",
   "metadata": {},
   "outputs": [
    {
     "name": "stdout",
     "output_type": "stream",
     "text": [
      "myGlobal 1 2024-01-15 17:46:42.492903\n",
      "myGlobal 2 2024-01-15 17:46:43.498914\n",
      "myGlobal 3 2024-01-15 17:46:44.506324\n",
      "myGlobal 4 2024-01-15 17:46:45.517140\n",
      "myGlobal 5 2024-01-15 17:46:46.526212\n"
     ]
    }
   ],
   "source": [
    "_iris.kill(\"myGlobal\")\n",
    "for x in range(1, 6):\n",
    "    now = datetime.datetime.now()\n",
    "    time.sleep(1)\n",
    "    _iris.set(str(now),\"myGlobal\",x)\n",
    "    print(\"myGlobal %d\" % (x),_iris.get(\"myGlobal\",x))"
   ]
  },
  {
   "cell_type": "code",
   "execution_count": null,
   "id": "8a2c6c74",
   "metadata": {},
   "outputs": [],
   "source": []
  },
  {
   "cell_type": "code",
   "execution_count": null,
   "id": "2c7dec19-9144-4feb-a75a-aa02e2c6001e",
   "metadata": {},
   "outputs": [],
   "source": []
  }
 ],
 "metadata": {
  "kernelspec": {
   "display_name": "Python 3 (ipykernel)",
   "language": "python",
   "name": "python3"
  },
  "language_info": {
   "codemirror_mode": {
    "name": "ipython",
    "version": 3
   },
   "file_extension": ".py",
   "mimetype": "text/x-python",
   "name": "python",
   "nbconvert_exporter": "python",
   "pygments_lexer": "ipython3",
   "version": "3.11.6"
  }
 },
 "nbformat": 4,
 "nbformat_minor": 5
}
