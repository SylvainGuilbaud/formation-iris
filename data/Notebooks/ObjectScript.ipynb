{
 "cells": [
  {
   "cell_type": "markdown",
   "id": "2aa88393",
   "metadata": {},
   "source": [
    "# Using ObjectScript in a notebook\n",
    "This notebook uses a kernel written in Python, which plugs into Jupyter to enable execution of ObjectScript inside IRIS. See `misc/kernels/objectscript/*` and `src/ObjectScript/Kernel/CodeExecutor.cls` for how this is done.\n",
    "\n",
    "Indenting each line with at least one space allows InterSystems Language Server to recognize the ObjectScript INT code correctly."
   ]
  },
  {
   "cell_type": "code",
   "execution_count": 1,
   "id": "8e6a14d2",
   "metadata": {
    "vscode": {
     "languageId": "objectscript-int"
    }
   },
   "outputs": [
    {
     "ename": "SyntaxError",
     "evalue": "invalid syntax (4268312460.py, line 1)",
     "output_type": "error",
     "traceback": [
      "\u001b[0;36m  Cell \u001b[0;32mIn[1], line 1\u001b[0;36m\u001b[0m\n\u001b[0;31m    Set hello = \"helloworld2\"\u001b[0m\n\u001b[0m        ^\u001b[0m\n\u001b[0;31mSyntaxError\u001b[0m\u001b[0;31m:\u001b[0m invalid syntax\n"
     ]
    }
   ],
   "source": [
    " Set hello = \"helloworld2\"\n",
    " zw hello"
   ]
  },
  {
   "cell_type": "markdown",
   "id": "3d0e0c8b",
   "metadata": {},
   "source": [
    "# Embedded Python in ObjectScript\n",
    "From ObjectScript, run some Python library methods."
   ]
  },
  {
   "cell_type": "code",
   "execution_count": 2,
   "id": "34244f15",
   "metadata": {
    "vscode": {
     "languageId": "objectscript-int"
    }
   },
   "outputs": [
    {
     "ename": "SyntaxError",
     "evalue": "invalid syntax (844609417.py, line 1)",
     "output_type": "error",
     "traceback": [
      "\u001b[0;36m  Cell \u001b[0;32mIn[2], line 1\u001b[0;36m\u001b[0m\n\u001b[0;31m    set datetime = ##class(%SYS.Python).Import(\"datetime\")\u001b[0m\n\u001b[0m        ^\u001b[0m\n\u001b[0;31mSyntaxError\u001b[0m\u001b[0;31m:\u001b[0m invalid syntax\n"
     ]
    }
   ],
   "source": [
    " set datetime = ##class(%SYS.Python).Import(\"datetime\")\n",
    " zw datetime\n",
    " zw datetime.date.today().isoformat()"
   ]
  },
  {
   "cell_type": "code",
   "execution_count": null,
   "id": "3838982c-3130-4ddf-a695-5001e2793845",
   "metadata": {},
   "outputs": [],
   "source": []
  }
 ],
 "metadata": {
  "kernelspec": {
   "display_name": "Python 3 (ipykernel)",
   "language": "python",
   "name": "python3"
  },
  "language_info": {
   "codemirror_mode": {
    "name": "ipython",
    "version": 3
   },
   "file_extension": ".py",
   "mimetype": "text/x-python",
   "name": "python",
   "nbconvert_exporter": "python",
   "pygments_lexer": "ipython3",
   "version": "3.11.4"
  }
 },
 "nbformat": 4,
 "nbformat_minor": 5
}
